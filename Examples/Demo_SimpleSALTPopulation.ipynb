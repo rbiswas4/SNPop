{
 "cells": [
  {
   "cell_type": "code",
   "execution_count": 2,
   "metadata": {},
   "outputs": [],
   "source": [
    "import numpy as np\n",
    "%matplotlib inline\n",
    "import matplotlib.pyplot as plt\n",
    "import seaborn as sns\n",
    "sns.set_style('whitegrid')"
   ]
  },
  {
   "cell_type": "code",
   "execution_count": 3,
   "metadata": {},
   "outputs": [],
   "source": [
    "import sncosmo\n",
    "import varpop\n",
    "import snpop"
   ]
  },
  {
   "cell_type": "code",
   "execution_count": 4,
   "metadata": {},
   "outputs": [],
   "source": [
    "from snpop import SimpleSALTPopulation"
   ]
  },
  {
   "cell_type": "code",
   "execution_count": 5,
   "metadata": {},
   "outputs": [],
   "source": [
    "from collections import OrderedDict"
   ]
  },
  {
   "cell_type": "code",
   "execution_count": 5,
   "metadata": {},
   "outputs": [
    {
     "name": "stdout",
     "output_type": "stream",
     "text": [
      "1.5.3\n",
      "0.1.0\n",
      "0.1.1\n"
     ]
    }
   ],
   "source": [
    "print(sncosmo.__version__)\n",
    "print(varpop.__version__)\n",
    "print(snpop.__version__)"
   ]
  },
  {
   "cell_type": "markdown",
   "metadata": {},
   "source": [
    "# Simple SALT Distributions"
   ]
  },
  {
   "cell_type": "markdown",
   "metadata": {},
   "source": [
    "The SALT model used for SNIa has the following parameters for each SNIa :\n",
    "```x0, x1, c, z, t0 ```. During training, `SALT2` is designed to scale variables, such that at the\n",
    "end of its training `x1` has a standard deviation of `1.0`, and `c` has a standard deviation of `0.1`.\n",
    "While this does not imply that (a) the population of SNe have the same standard deviations for these\n",
    "parameters and (b) they are uncorrelated, a population drawn with un-correlated `c` and `x1` with these\n",
    "standard deviations is consistent with a homogeneous selection for the SALT2 training sample, and is often\n",
    "used in simulations. A population with this character is described by `SimpleSALTPopulation`"
   ]
  },
  {
   "cell_type": "markdown",
   "metadata": {},
   "source": [
    "There are two ways to use it:\n",
    "1. Use it with a supplied sample of SN redshifts.\n",
    "2. Supply it with the area of the sky, the duration of the survey, and the redshift bounds, and it will use a powerlaw rate for SN to obtain a redshift sample, and run through with the previous case. \n",
    "\n",
    "To start with we describe the first case"
   ]
  },
  {
   "cell_type": "markdown",
   "metadata": {},
   "source": [
    "### `SimpleSALTPopulation`"
   ]
  },
  {
   "cell_type": "markdown",
   "metadata": {},
   "source": [
    "obtain a set of samples for the redshift"
   ]
  },
  {
   "cell_type": "code",
   "execution_count": 6,
   "metadata": {},
   "outputs": [
    {
     "name": "stdout",
     "output_type": "stream",
     "text": [
      "[ 0.65059906  0.21531551  0.118101    0.26170307  0.24705013  0.88650903\n",
      "  0.28202962  0.04204624  0.38641397  0.96388482]\n"
     ]
    }
   ],
   "source": [
    "zSamples = np.random.uniform(0, 1.0, size=10)\n",
    "print(zSamples)"
   ]
  },
  {
   "cell_type": "markdown",
   "metadata": {},
   "source": [
    "Instantiate the object"
   ]
  },
  {
   "cell_type": "code",
   "execution_count": 7,
   "metadata": {},
   "outputs": [],
   "source": [
    "sp = SimpleSALTPopulation(zSamples, rng=np.random.RandomState(1))"
   ]
  },
  {
   "cell_type": "code",
   "execution_count": 8,
   "metadata": {},
   "outputs": [
    {
     "data": {
      "text/plain": [
       "array([0, 1, 2, 3, 4, 5, 6, 7, 8, 9])"
      ]
     },
     "execution_count": 8,
     "metadata": {},
     "output_type": "execute_result"
    }
   ],
   "source": [
    "sp.idxvalues"
   ]
  },
  {
   "cell_type": "code",
   "execution_count": 9,
   "metadata": {},
   "outputs": [
    {
     "data": {
      "text/plain": [
       "array([ 0.29829967,  0.83845581,  0.27463729,  0.70287311,  0.26749356,\n",
       "        0.01908381,  0.13027824,  0.05134585,  0.91541716,  0.94924475])"
      ]
     },
     "execution_count": 9,
     "metadata": {},
     "output_type": "execute_result"
    }
   ],
   "source": [
    "sp.zSamples"
   ]
  },
  {
   "cell_type": "code",
   "execution_count": 10,
   "metadata": {},
   "outputs": [
    {
     "data": {
      "text/plain": [
       "FlatLambdaCDM(name=\"Planck15\", H0=67.7 km / (Mpc s), Om0=0.307, Tcmb0=2.725 K, Neff=3.05, m_nu=[ 0.    0.    0.06] eV, Ob0=0.0486)"
      ]
     },
     "execution_count": 10,
     "metadata": {},
     "output_type": "execute_result"
    }
   ],
   "source": [
    "sp.cosmo"
   ]
  },
  {
   "cell_type": "code",
   "execution_count": 11,
   "metadata": {},
   "outputs": [
    {
     "data": {
      "text/html": [
       "<div>\n",
       "<style scoped>\n",
       "    .dataframe tbody tr th:only-of-type {\n",
       "        vertical-align: middle;\n",
       "    }\n",
       "\n",
       "    .dataframe tbody tr th {\n",
       "        vertical-align: top;\n",
       "    }\n",
       "\n",
       "    .dataframe thead th {\n",
       "        text-align: right;\n",
       "    }\n",
       "</style>\n",
       "<table border=\"1\" class=\"dataframe\">\n",
       "  <thead>\n",
       "    <tr style=\"text-align: right;\">\n",
       "      <th></th>\n",
       "      <th>Mabs</th>\n",
       "      <th>MnoDisp</th>\n",
       "      <th>c</th>\n",
       "      <th>mB</th>\n",
       "      <th>t0</th>\n",
       "      <th>x0</th>\n",
       "      <th>x1</th>\n",
       "      <th>z</th>\n",
       "      <th>model</th>\n",
       "    </tr>\n",
       "    <tr>\n",
       "      <th>idx</th>\n",
       "      <th></th>\n",
       "      <th></th>\n",
       "      <th></th>\n",
       "      <th></th>\n",
       "      <th></th>\n",
       "      <th></th>\n",
       "      <th></th>\n",
       "      <th></th>\n",
       "      <th></th>\n",
       "    </tr>\n",
       "  </thead>\n",
       "  <tbody>\n",
       "    <tr>\n",
       "      <th>0</th>\n",
       "      <td>-19.847337</td>\n",
       "      <td>-19.828904</td>\n",
       "      <td>0.174481</td>\n",
       "      <td>21.160918</td>\n",
       "      <td>61102.130317</td>\n",
       "      <td>0.000054</td>\n",
       "      <td>-0.172428</td>\n",
       "      <td>0.298300</td>\n",
       "      <td>SALT2</td>\n",
       "    </tr>\n",
       "    <tr>\n",
       "      <th>1</th>\n",
       "      <td>-19.104782</td>\n",
       "      <td>-18.964417</td>\n",
       "      <td>-0.076121</td>\n",
       "      <td>24.584279</td>\n",
       "      <td>62209.184401</td>\n",
       "      <td>0.000002</td>\n",
       "      <td>-0.877858</td>\n",
       "      <td>0.838456</td>\n",
       "      <td>SALT2</td>\n",
       "    </tr>\n",
       "    <tr>\n",
       "      <th>2</th>\n",
       "      <td>-19.445005</td>\n",
       "      <td>-19.404822</td>\n",
       "      <td>0.031904</td>\n",
       "      <td>21.357347</td>\n",
       "      <td>59580.417468</td>\n",
       "      <td>0.000045</td>\n",
       "      <td>0.042214</td>\n",
       "      <td>0.274637</td>\n",
       "      <td>SALT2</td>\n",
       "    </tr>\n",
       "    <tr>\n",
       "      <th>3</th>\n",
       "      <td>-19.206254</td>\n",
       "      <td>-19.285807</td>\n",
       "      <td>-0.024937</td>\n",
       "      <td>24.013822</td>\n",
       "      <td>60683.513890</td>\n",
       "      <td>0.000004</td>\n",
       "      <td>0.582815</td>\n",
       "      <td>0.702873</td>\n",
       "      <td>SALT2</td>\n",
       "    </tr>\n",
       "    <tr>\n",
       "      <th>4</th>\n",
       "      <td>-19.741783</td>\n",
       "      <td>-19.638034</td>\n",
       "      <td>0.146211</td>\n",
       "      <td>20.995194</td>\n",
       "      <td>60115.659001</td>\n",
       "      <td>0.000063</td>\n",
       "      <td>-1.100619</td>\n",
       "      <td>0.267494</td>\n",
       "      <td>SALT2</td>\n",
       "    </tr>\n",
       "    <tr>\n",
       "      <th>5</th>\n",
       "      <td>-18.838548</td>\n",
       "      <td>-18.779035</td>\n",
       "      <td>-0.206014</td>\n",
       "      <td>15.826042</td>\n",
       "      <td>59917.035871</td>\n",
       "      <td>0.007399</td>\n",
       "      <td>1.144724</td>\n",
       "      <td>0.019084</td>\n",
       "      <td>SALT2</td>\n",
       "    </tr>\n",
       "    <tr>\n",
       "      <th>6</th>\n",
       "      <td>-19.401012</td>\n",
       "      <td>-19.297936</td>\n",
       "      <td>-0.032242</td>\n",
       "      <td>19.601082</td>\n",
       "      <td>60259.849772</td>\n",
       "      <td>0.000229</td>\n",
       "      <td>0.901591</td>\n",
       "      <td>0.130278</td>\n",
       "      <td>SALT2</td>\n",
       "    </tr>\n",
       "    <tr>\n",
       "      <th>7</th>\n",
       "      <td>-19.361462</td>\n",
       "      <td>-19.234681</td>\n",
       "      <td>-0.038405</td>\n",
       "      <td>17.503419</td>\n",
       "      <td>60841.296654</td>\n",
       "      <td>0.001582</td>\n",
       "      <td>0.502494</td>\n",
       "      <td>0.051346</td>\n",
       "      <td>SALT2</td>\n",
       "    </tr>\n",
       "    <tr>\n",
       "      <th>8</th>\n",
       "      <td>-19.855785</td>\n",
       "      <td>-19.755098</td>\n",
       "      <td>0.113377</td>\n",
       "      <td>24.067746</td>\n",
       "      <td>61028.201281</td>\n",
       "      <td>0.000004</td>\n",
       "      <td>0.900856</td>\n",
       "      <td>0.915417</td>\n",
       "      <td>SALT2</td>\n",
       "    </tr>\n",
       "    <tr>\n",
       "      <th>9</th>\n",
       "      <td>-18.881324</td>\n",
       "      <td>-18.879424</td>\n",
       "      <td>-0.109989</td>\n",
       "      <td>25.139227</td>\n",
       "      <td>61546.681079</td>\n",
       "      <td>0.000001</td>\n",
       "      <td>-0.683728</td>\n",
       "      <td>0.949245</td>\n",
       "      <td>SALT2</td>\n",
       "    </tr>\n",
       "  </tbody>\n",
       "</table>\n",
       "</div>"
      ],
      "text/plain": [
       "          Mabs    MnoDisp         c         mB            t0        x0  \\\n",
       "idx                                                                      \n",
       "0   -19.847337 -19.828904  0.174481  21.160918  61102.130317  0.000054   \n",
       "1   -19.104782 -18.964417 -0.076121  24.584279  62209.184401  0.000002   \n",
       "2   -19.445005 -19.404822  0.031904  21.357347  59580.417468  0.000045   \n",
       "3   -19.206254 -19.285807 -0.024937  24.013822  60683.513890  0.000004   \n",
       "4   -19.741783 -19.638034  0.146211  20.995194  60115.659001  0.000063   \n",
       "5   -18.838548 -18.779035 -0.206014  15.826042  59917.035871  0.007399   \n",
       "6   -19.401012 -19.297936 -0.032242  19.601082  60259.849772  0.000229   \n",
       "7   -19.361462 -19.234681 -0.038405  17.503419  60841.296654  0.001582   \n",
       "8   -19.855785 -19.755098  0.113377  24.067746  61028.201281  0.000004   \n",
       "9   -18.881324 -18.879424 -0.109989  25.139227  61546.681079  0.000001   \n",
       "\n",
       "           x1         z  model  \n",
       "idx                             \n",
       "0   -0.172428  0.298300  SALT2  \n",
       "1   -0.877858  0.838456  SALT2  \n",
       "2    0.042214  0.274637  SALT2  \n",
       "3    0.582815  0.702873  SALT2  \n",
       "4   -1.100619  0.267494  SALT2  \n",
       "5    1.144724  0.019084  SALT2  \n",
       "6    0.901591  0.130278  SALT2  \n",
       "7    0.502494  0.051346  SALT2  \n",
       "8    0.900856  0.915417  SALT2  \n",
       "9   -0.683728  0.949245  SALT2  "
      ]
     },
     "execution_count": 11,
     "metadata": {},
     "output_type": "execute_result"
    }
   ],
   "source": [
    "sp.paramsTable"
   ]
  },
  {
   "cell_type": "code",
   "execution_count": 12,
   "metadata": {},
   "outputs": [
    {
     "data": {
      "text/plain": [
       "OrderedDict([('Mabs', -19.206254055598105),\n",
       "             ('MnoDisp', -19.285807375608833),\n",
       "             ('c', -0.024937037547741011),\n",
       "             ('mB', 24.013821665727949),\n",
       "             ('t0', 60683.513890106216),\n",
       "             ('x0', 3.936587159521316e-06),\n",
       "             ('x1', 0.58281521371582223),\n",
       "             ('z', 0.70287311381139872),\n",
       "             ('model', 'SALT2')])"
      ]
     },
     "execution_count": 12,
     "metadata": {},
     "output_type": "execute_result"
    }
   ],
   "source": [
    "sp.modelParams(3)"
   ]
  },
  {
   "cell_type": "markdown",
   "metadata": {},
   "source": [
    "### 2. Generate From the skyArea, redshift bounds and survey Duration\n",
    "\n",
    "This uses the `fromSkyArea` method\n",
    "\n",
    "In general, we will not have a redshift distribution or a redshift sample to use. In this case, we prefer to use \n",
    "the `fromSkyArea` method which instead obtains these samples from using the fieldArea, zmin and zmax. Right now, we also need `numzBins` because of the binned implementation which we will later get rid of."
   ]
  },
  {
   "cell_type": "code",
   "execution_count": 7,
   "metadata": {},
   "outputs": [],
   "source": [
    "spz = SimpleSALTPopulation.fromSkyArea(rng=np.random.RandomState(1), fieldArea=0.5)"
   ]
  },
  {
   "cell_type": "code",
   "execution_count": 8,
   "metadata": {},
   "outputs": [
    {
     "data": {
      "text/plain": [
       "1359"
      ]
     },
     "execution_count": 8,
     "metadata": {},
     "output_type": "execute_result"
    }
   ],
   "source": [
    "spz.zSamples.size"
   ]
  },
  {
   "cell_type": "code",
   "execution_count": 9,
   "metadata": {},
   "outputs": [
    {
     "data": {
      "text/plain": [
       "1359"
      ]
     },
     "execution_count": 9,
     "metadata": {},
     "output_type": "execute_result"
    }
   ],
   "source": [
    "spz.numSources"
   ]
  },
  {
   "cell_type": "code",
   "execution_count": 11,
   "metadata": {},
   "outputs": [
    {
     "data": {
      "text/html": [
       "<div>\n",
       "<style scoped>\n",
       "    .dataframe tbody tr th:only-of-type {\n",
       "        vertical-align: middle;\n",
       "    }\n",
       "\n",
       "    .dataframe tbody tr th {\n",
       "        vertical-align: top;\n",
       "    }\n",
       "\n",
       "    .dataframe thead th {\n",
       "        text-align: right;\n",
       "    }\n",
       "</style>\n",
       "<table border=\"1\" class=\"dataframe\">\n",
       "  <thead>\n",
       "    <tr style=\"text-align: right;\">\n",
       "      <th></th>\n",
       "      <th>Mabs</th>\n",
       "      <th>MnoDisp</th>\n",
       "      <th>c</th>\n",
       "      <th>mB</th>\n",
       "      <th>t0</th>\n",
       "      <th>x0</th>\n",
       "      <th>x1</th>\n",
       "      <th>z</th>\n",
       "      <th>model</th>\n",
       "    </tr>\n",
       "    <tr>\n",
       "      <th>idx</th>\n",
       "      <th></th>\n",
       "      <th></th>\n",
       "      <th></th>\n",
       "      <th></th>\n",
       "      <th></th>\n",
       "      <th></th>\n",
       "      <th></th>\n",
       "      <th></th>\n",
       "      <th></th>\n",
       "    </tr>\n",
       "  </thead>\n",
       "  <tbody>\n",
       "    <tr>\n",
       "      <th>0</th>\n",
       "      <td>-18.802670</td>\n",
       "      <td>-18.865315</td>\n",
       "      <td>-0.133626</td>\n",
       "      <td>20.106976</td>\n",
       "      <td>62172.794211</td>\n",
       "      <td>0.000144</td>\n",
       "      <td>-0.137267</td>\n",
       "      <td>0.125250</td>\n",
       "      <td>SALT2</td>\n",
       "    </tr>\n",
       "    <tr>\n",
       "      <th>1</th>\n",
       "      <td>-19.805216</td>\n",
       "      <td>-19.697074</td>\n",
       "      <td>0.034845</td>\n",
       "      <td>19.485569</td>\n",
       "      <td>61243.098500</td>\n",
       "      <td>0.000254</td>\n",
       "      <td>2.615096</td>\n",
       "      <td>0.147226</td>\n",
       "      <td>SALT2</td>\n",
       "    </tr>\n",
       "    <tr>\n",
       "      <th>2</th>\n",
       "      <td>-19.270605</td>\n",
       "      <td>-19.130455</td>\n",
       "      <td>-0.105906</td>\n",
       "      <td>20.381716</td>\n",
       "      <td>61789.027067</td>\n",
       "      <td>0.000112</td>\n",
       "      <td>1.481818</td>\n",
       "      <td>0.171353</td>\n",
       "      <td>SALT2</td>\n",
       "    </tr>\n",
       "    <tr>\n",
       "      <th>3</th>\n",
       "      <td>-19.169834</td>\n",
       "      <td>-19.189046</td>\n",
       "      <td>-0.024831</td>\n",
       "      <td>20.898086</td>\n",
       "      <td>63194.982619</td>\n",
       "      <td>0.000069</td>\n",
       "      <td>-0.299846</td>\n",
       "      <td>0.203602</td>\n",
       "      <td>SALT2</td>\n",
       "    </tr>\n",
       "    <tr>\n",
       "      <th>4</th>\n",
       "      <td>-19.463884</td>\n",
       "      <td>-19.293108</td>\n",
       "      <td>0.011603</td>\n",
       "      <td>20.907009</td>\n",
       "      <td>62404.794312</td>\n",
       "      <td>0.000069</td>\n",
       "      <td>-0.393858</td>\n",
       "      <td>0.230553</td>\n",
       "      <td>SALT2</td>\n",
       "    </tr>\n",
       "  </tbody>\n",
       "</table>\n",
       "</div>"
      ],
      "text/plain": [
       "          Mabs    MnoDisp         c         mB            t0        x0  \\\n",
       "idx                                                                      \n",
       "0   -18.802670 -18.865315 -0.133626  20.106976  62172.794211  0.000144   \n",
       "1   -19.805216 -19.697074  0.034845  19.485569  61243.098500  0.000254   \n",
       "2   -19.270605 -19.130455 -0.105906  20.381716  61789.027067  0.000112   \n",
       "3   -19.169834 -19.189046 -0.024831  20.898086  63194.982619  0.000069   \n",
       "4   -19.463884 -19.293108  0.011603  20.907009  62404.794312  0.000069   \n",
       "\n",
       "           x1         z  model  \n",
       "idx                             \n",
       "0   -0.137267  0.125250  SALT2  \n",
       "1    2.615096  0.147226  SALT2  \n",
       "2    1.481818  0.171353  SALT2  \n",
       "3   -0.299846  0.203602  SALT2  \n",
       "4   -0.393858  0.230553  SALT2  "
      ]
     },
     "execution_count": 11,
     "metadata": {},
     "output_type": "execute_result"
    }
   ],
   "source": [
    "spz.paramsTable.head()"
   ]
  },
  {
   "cell_type": "markdown",
   "metadata": {},
   "source": [
    "## Characterizations of the Distribution"
   ]
  },
  {
   "cell_type": "markdown",
   "metadata": {},
   "source": [
    "## Form of the internal dispersion"
   ]
  },
  {
   "cell_type": "code",
   "execution_count": 38,
   "metadata": {},
   "outputs": [],
   "source": [
    "import scipy"
   ]
  },
  {
   "cell_type": "code",
   "execution_count": 39,
   "metadata": {},
   "outputs": [
    {
     "data": {
      "text/plain": [
       "<matplotlib.axes._subplots.AxesSubplot at 0x115d31e80>"
      ]
     },
     "execution_count": 39,
     "metadata": {},
     "output_type": "execute_result"
    },
    {
     "data": {
      "image/png": "[encoded data removed]",
      "text/plain": [
       "<matplotlib.figure.Figure at 0x1158106d8>"
      ]
     },
     "metadata": {},
     "output_type": "display_data"
    }
   ],
   "source": [
    "fig, ax = plt.subplots()\n",
    "sns.distplot(spz.paramsTable.Mabs - spz.paramsTable.MnoDisp, hist=False, fit=scipy.stats.norm)"
   ]
  },
  {
   "cell_type": "markdown",
   "metadata": {},
   "source": [
    "## Checks on the Hubble Diagram"
   ]
  },
  {
   "cell_type": "code",
   "execution_count": 40,
   "metadata": {},
   "outputs": [],
   "source": [
    "from astropy.cosmology import Planck15"
   ]
  },
  {
   "cell_type": "code",
   "execution_count": 41,
   "metadata": {},
   "outputs": [
    {
     "data": {
      "text/plain": [
       "[<matplotlib.lines.Line2D at 0x1127433c8>]"
      ]
     },
     "execution_count": 41,
     "metadata": {},
     "output_type": "execute_result"
    },
    {
     "data": {
      "image/png": "[encoded data removed]",
      "text/plain": [
       "<matplotlib.figure.Figure at 0x114322da0>"
      ]
     },
     "metadata": {},
     "output_type": "display_data"
    }
   ],
   "source": [
    "fig, ax = plt.subplots(1, 4)\n",
    "#ax[0, 0].plot(spz.paramsTable.z, spz.paramsTable.mB, '.')\n",
    "ax[0].plot(spz.paramsTable.z, spz.paramsTable.mB, '.')\n",
    "ax[0].plot(spz.paramsTable.z, spz.paramsTable.Mabs, '.')\n",
    "ax[1].plot(spz.paramsTable.z, Planck15.distmod(spz.paramsTable.z).value, color='k', lw=2)\n",
    "ax[1].plot(spz.paramsTable.z, spz.paramsTable.mB - spz.paramsTable.Mabs, color='r')\n",
    "ax[2].plot(spz.paramsTable.z, spz.paramsTable.mB - spz.paramsTable.Mabs - Planck15.distmod(spz.paramsTable.z).value, 'r.')\n",
    "ax[3].plot(spz.paramsTable.z, spz.paramsTable.mB - spz.paramsTable.MnoDisp - Planck15.distmod(spz.paramsTable.z).value, 'k.')"
   ]
  },
  {
   "cell_type": "markdown",
   "metadata": {},
   "source": [
    "## Distribution of x1 and c"
   ]
  },
  {
   "cell_type": "code",
   "execution_count": 42,
   "metadata": {},
   "outputs": [
    {
     "data": {
      "image/png": "[encoded data removed]",
      "text/plain": [
       "<matplotlib.figure.Figure at 0x114059e80>"
      ]
     },
     "metadata": {},
     "output_type": "display_data"
    }
   ],
   "source": [
    "#fig = plt.figure(figsize=(6,6))\n",
    "jp = sns.jointplot(data=spz.paramsTable, x='x1', y='c', kind='kde')\n",
    "jp.fig.set_figheight(6)\n",
    "jp.fig.set_figwidth(6)"
   ]
  }
 ],
 "metadata": {
  "kernelspec": {
   "display_name": "Python 3",
   "language": "python",
   "name": "python3"
  },
  "language_info": {
   "codemirror_mode": {
    "name": "ipython",
    "version": 3
   },
   "file_extension": ".py",
   "mimetype": "text/x-python",
   "name": "python",
   "nbconvert_exporter": "python",
   "pygments_lexer": "ipython3",
   "version": "3.6.4"
  }
 },
 "nbformat": 4,
 "nbformat_minor": 2
}
