{
 "cells": [
  {
   "cell_type": "code",
   "execution_count": 1,
   "metadata": {},
   "outputs": [],
   "source": [
    "import numpy as np\n",
    "%matplotlib inline\n",
    "import matplotlib.pyplot as plt\n",
    "import seaborn as sns\n",
    "sns.set_style('whitegrid')"
   ]
  },
  {
   "cell_type": "code",
   "execution_count": 2,
   "metadata": {},
   "outputs": [],
   "source": [
    "import sncosmo\n",
    "import varpop\n",
    "import snpop"
   ]
  },
  {
   "cell_type": "code",
   "execution_count": 4,
   "metadata": {},
   "outputs": [],
   "source": [
    "from snpop import SimpleSALTPopulation"
   ]
  },
  {
   "cell_type": "code",
   "execution_count": 12,
   "metadata": {},
   "outputs": [],
   "source": [
    "from collections import OrderedDict"
   ]
  },
  {
   "cell_type": "code",
   "execution_count": 3,
   "metadata": {},
   "outputs": [
    {
     "name": "stdout",
     "output_type": "stream",
     "text": [
      "1.5.3\n",
      "0.0.3\n",
      "0.0.4\n"
     ]
    }
   ],
   "source": [
    "print(sncosmo.__version__)\n",
    "print(varpop.__version__)\n",
    "print(snpop.__version__)"
   ]
  },
  {
   "cell_type": "code",
   "execution_count": 5,
   "metadata": {},
   "outputs": [
    {
     "name": "stdout",
     "output_type": "stream",
     "text": [
      "[ 0.76833124  0.37370393  0.54954057  0.69375886  0.14899521  0.84988322\n",
      "  0.5270529   0.86519225  0.07605845  0.62789506]\n"
     ]
    }
   ],
   "source": [
    "zSamples = np.random.uniform(0, 1.0, size=10)\n",
    "print(zSamples)"
   ]
  },
  {
   "cell_type": "code",
   "execution_count": 6,
   "metadata": {},
   "outputs": [],
   "source": [
    "sp = SimpleSALTPopulation(zSamples, rng=np.random.RandomState(1))"
   ]
  },
  {
   "cell_type": "code",
   "execution_count": 7,
   "metadata": {},
   "outputs": [
    {
     "data": {
      "text/plain": [
       "array([0, 1, 2, 3, 4, 5, 6, 7, 8, 9])"
      ]
     },
     "execution_count": 7,
     "metadata": {},
     "output_type": "execute_result"
    }
   ],
   "source": [
    "sp.idxvalues"
   ]
  },
  {
   "cell_type": "code",
   "execution_count": 8,
   "metadata": {},
   "outputs": [
    {
     "data": {
      "text/plain": [
       "array([ 0.76833124,  0.37370393,  0.54954057,  0.69375886,  0.14899521,\n",
       "        0.84988322,  0.5270529 ,  0.86519225,  0.07605845,  0.62789506])"
      ]
     },
     "execution_count": 8,
     "metadata": {},
     "output_type": "execute_result"
    }
   ],
   "source": [
    "sp.zSamples"
   ]
  },
  {
   "cell_type": "code",
   "execution_count": 9,
   "metadata": {},
   "outputs": [
    {
     "data": {
      "text/plain": [
       "FlatLambdaCDM(name=\"Planck15\", H0=67.7 km / (Mpc s), Om0=0.307, Tcmb0=2.725 K, Neff=3.05, m_nu=[ 0.    0.    0.06] eV, Ob0=0.0486)"
      ]
     },
     "execution_count": 9,
     "metadata": {},
     "output_type": "execute_result"
    }
   ],
   "source": [
    "sp.cosmo"
   ]
  },
  {
   "cell_type": "code",
   "execution_count": 10,
   "metadata": {},
   "outputs": [
    {
     "data": {
      "text/html": [
       "<div>\n",
       "<style scoped>\n",
       "    .dataframe tbody tr th:only-of-type {\n",
       "        vertical-align: middle;\n",
       "    }\n",
       "\n",
       "    .dataframe tbody tr th {\n",
       "        vertical-align: top;\n",
       "    }\n",
       "\n",
       "    .dataframe thead th {\n",
       "        text-align: right;\n",
       "    }\n",
       "</style>\n",
       "<table border=\"1\" class=\"dataframe\">\n",
       "  <thead>\n",
       "    <tr style=\"text-align: right;\">\n",
       "      <th></th>\n",
       "      <th>M</th>\n",
       "      <th>Mabs</th>\n",
       "      <th>c</th>\n",
       "      <th>mB</th>\n",
       "      <th>t0</th>\n",
       "      <th>x0</th>\n",
       "      <th>x1</th>\n",
       "      <th>z</th>\n",
       "      <th>model</th>\n",
       "    </tr>\n",
       "    <tr>\n",
       "      <th>idx</th>\n",
       "      <th></th>\n",
       "      <th></th>\n",
       "      <th></th>\n",
       "      <th></th>\n",
       "      <th></th>\n",
       "      <th></th>\n",
       "      <th></th>\n",
       "      <th></th>\n",
       "      <th></th>\n",
       "    </tr>\n",
       "  </thead>\n",
       "  <tbody>\n",
       "    <tr>\n",
       "      <th>0</th>\n",
       "      <td>-0.528904</td>\n",
       "      <td>-19.847337</td>\n",
       "      <td>0.174481</td>\n",
       "      <td>23.609117</td>\n",
       "      <td>61102.130317</td>\n",
       "      <td>0.000006</td>\n",
       "      <td>-0.172428</td>\n",
       "      <td>0.768331</td>\n",
       "      <td>SALT2</td>\n",
       "    </tr>\n",
       "    <tr>\n",
       "      <th>1</th>\n",
       "      <td>0.335583</td>\n",
       "      <td>-19.104782</td>\n",
       "      <td>-0.076121</td>\n",
       "      <td>22.471895</td>\n",
       "      <td>62209.184401</td>\n",
       "      <td>0.000016</td>\n",
       "      <td>-0.877858</td>\n",
       "      <td>0.373704</td>\n",
       "      <td>SALT2</td>\n",
       "    </tr>\n",
       "    <tr>\n",
       "      <th>2</th>\n",
       "      <td>-0.104822</td>\n",
       "      <td>-19.445005</td>\n",
       "      <td>0.031904</td>\n",
       "      <td>23.127010</td>\n",
       "      <td>59580.417468</td>\n",
       "      <td>0.000009</td>\n",
       "      <td>0.042214</td>\n",
       "      <td>0.549541</td>\n",
       "      <td>SALT2</td>\n",
       "    </tr>\n",
       "    <tr>\n",
       "      <th>3</th>\n",
       "      <td>0.014193</td>\n",
       "      <td>-19.206254</td>\n",
       "      <td>-0.024937</td>\n",
       "      <td>23.979248</td>\n",
       "      <td>60683.513890</td>\n",
       "      <td>0.000004</td>\n",
       "      <td>0.582815</td>\n",
       "      <td>0.693759</td>\n",
       "      <td>SALT2</td>\n",
       "    </tr>\n",
       "    <tr>\n",
       "      <th>4</th>\n",
       "      <td>-0.338034</td>\n",
       "      <td>-19.741783</td>\n",
       "      <td>0.146211</td>\n",
       "      <td>19.577328</td>\n",
       "      <td>60115.659001</td>\n",
       "      <td>0.000234</td>\n",
       "      <td>-1.100619</td>\n",
       "      <td>0.148995</td>\n",
       "      <td>SALT2</td>\n",
       "    </tr>\n",
       "    <tr>\n",
       "      <th>5</th>\n",
       "      <td>0.520965</td>\n",
       "      <td>-18.838548</td>\n",
       "      <td>-0.206014</td>\n",
       "      <td>24.886621</td>\n",
       "      <td>59917.035871</td>\n",
       "      <td>0.000002</td>\n",
       "      <td>1.144724</td>\n",
       "      <td>0.849883</td>\n",
       "      <td>SALT2</td>\n",
       "    </tr>\n",
       "    <tr>\n",
       "      <th>6</th>\n",
       "      <td>0.002064</td>\n",
       "      <td>-19.401012</td>\n",
       "      <td>-0.032242</td>\n",
       "      <td>23.061877</td>\n",
       "      <td>60259.849772</td>\n",
       "      <td>0.000009</td>\n",
       "      <td>0.901591</td>\n",
       "      <td>0.527053</td>\n",
       "      <td>SALT2</td>\n",
       "    </tr>\n",
       "    <tr>\n",
       "      <th>7</th>\n",
       "      <td>0.065319</td>\n",
       "      <td>-19.361462</td>\n",
       "      <td>-0.038405</td>\n",
       "      <td>24.411348</td>\n",
       "      <td>60841.296654</td>\n",
       "      <td>0.000003</td>\n",
       "      <td>0.502494</td>\n",
       "      <td>0.865192</td>\n",
       "      <td>SALT2</td>\n",
       "    </tr>\n",
       "    <tr>\n",
       "      <th>8</th>\n",
       "      <td>-0.455098</td>\n",
       "      <td>-19.855785</td>\n",
       "      <td>0.113377</td>\n",
       "      <td>17.899846</td>\n",
       "      <td>61028.201281</td>\n",
       "      <td>0.001097</td>\n",
       "      <td>0.900856</td>\n",
       "      <td>0.076058</td>\n",
       "      <td>SALT2</td>\n",
       "    </tr>\n",
       "    <tr>\n",
       "      <th>9</th>\n",
       "      <td>0.420576</td>\n",
       "      <td>-18.881324</td>\n",
       "      <td>-0.109989</td>\n",
       "      <td>24.040646</td>\n",
       "      <td>61546.681079</td>\n",
       "      <td>0.000004</td>\n",
       "      <td>-0.683728</td>\n",
       "      <td>0.627895</td>\n",
       "      <td>SALT2</td>\n",
       "    </tr>\n",
       "  </tbody>\n",
       "</table>\n",
       "</div>"
      ],
      "text/plain": [
       "            M       Mabs         c         mB            t0        x0  \\\n",
       "idx                                                                     \n",
       "0   -0.528904 -19.847337  0.174481  23.609117  61102.130317  0.000006   \n",
       "1    0.335583 -19.104782 -0.076121  22.471895  62209.184401  0.000016   \n",
       "2   -0.104822 -19.445005  0.031904  23.127010  59580.417468  0.000009   \n",
       "3    0.014193 -19.206254 -0.024937  23.979248  60683.513890  0.000004   \n",
       "4   -0.338034 -19.741783  0.146211  19.577328  60115.659001  0.000234   \n",
       "5    0.520965 -18.838548 -0.206014  24.886621  59917.035871  0.000002   \n",
       "6    0.002064 -19.401012 -0.032242  23.061877  60259.849772  0.000009   \n",
       "7    0.065319 -19.361462 -0.038405  24.411348  60841.296654  0.000003   \n",
       "8   -0.455098 -19.855785  0.113377  17.899846  61028.201281  0.001097   \n",
       "9    0.420576 -18.881324 -0.109989  24.040646  61546.681079  0.000004   \n",
       "\n",
       "           x1         z  model  \n",
       "idx                             \n",
       "0   -0.172428  0.768331  SALT2  \n",
       "1   -0.877858  0.373704  SALT2  \n",
       "2    0.042214  0.549541  SALT2  \n",
       "3    0.582815  0.693759  SALT2  \n",
       "4   -1.100619  0.148995  SALT2  \n",
       "5    1.144724  0.849883  SALT2  \n",
       "6    0.901591  0.527053  SALT2  \n",
       "7    0.502494  0.865192  SALT2  \n",
       "8    0.900856  0.076058  SALT2  \n",
       "9   -0.683728  0.627895  SALT2  "
      ]
     },
     "execution_count": 10,
     "metadata": {},
     "output_type": "execute_result"
    }
   ],
   "source": [
    "sp.paramsTable"
   ]
  },
  {
   "cell_type": "code",
   "execution_count": 11,
   "metadata": {},
   "outputs": [
    {
     "data": {
      "text/plain": [
       "OrderedDict([('M', 0.014192624391166336),\n",
       "             ('Mabs', -19.206254055598105),\n",
       "             ('c', -0.024937037547741011),\n",
       "             ('mB', 23.979247822579627),\n",
       "             ('t0', 60683.513890106216),\n",
       "             ('x0', 4.0639598512598762e-06),\n",
       "             ('x1', 0.58281521371582223),\n",
       "             ('z', 0.69375885532476578),\n",
       "             ('model', 'SALT2')])"
      ]
     },
     "execution_count": 11,
     "metadata": {},
     "output_type": "execute_result"
    }
   ],
   "source": [
    "sp.modelParams(3)"
   ]
  }
 ],
 "metadata": {
  "kernelspec": {
   "display_name": "Python 3",
   "language": "python",
   "name": "python3"
  },
  "language_info": {
   "codemirror_mode": {
    "name": "ipython",
    "version": 3
   },
   "file_extension": ".py",
   "mimetype": "text/x-python",
   "name": "python",
   "nbconvert_exporter": "python",
   "pygments_lexer": "ipython3",
   "version": "3.6.4"
  }
 },
 "nbformat": 4,
 "nbformat_minor": 2
}
