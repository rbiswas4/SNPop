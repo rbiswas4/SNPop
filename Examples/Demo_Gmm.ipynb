{
 "cells": [
  {
   "cell_type": "code",
   "execution_count": 1,
   "metadata": {},
   "outputs": [],
   "source": [
    "import numpy as np\n",
    "%matplotlib inline\n",
    "import matplotlib.pyplot as plt\n",
    "import seaborn as sns\n",
    "sns.set_style('whitegrid')"
   ]
  },
  {
   "cell_type": "code",
   "execution_count": 2,
   "metadata": {},
   "outputs": [],
   "source": [
    "import sncosmo\n",
    "import varpop\n",
    "import snpop"
   ]
  },
  {
   "cell_type": "code",
   "execution_count": 3,
   "metadata": {},
   "outputs": [],
   "source": [
    "from snpop import SimpleSALTPopulation, GMM_SALTPopulation"
   ]
  },
  {
   "cell_type": "code",
   "execution_count": 4,
   "metadata": {},
   "outputs": [],
   "source": [
    "from collections import OrderedDict"
   ]
  },
  {
   "cell_type": "code",
   "execution_count": 5,
   "metadata": {},
   "outputs": [
    {
     "name": "stdout",
     "output_type": "stream",
     "text": [
      "1.5.3\n",
      "0.1.0\n",
      "0.1.5\n"
     ]
    }
   ],
   "source": [
    "print(sncosmo.__version__)\n",
    "print(varpop.__version__)\n",
    "print(snpop.__version__)"
   ]
  },
  {
   "cell_type": "markdown",
   "metadata": {},
   "source": [
    "# GMM SALT Distributions"
   ]
  },
  {
   "cell_type": "markdown",
   "metadata": {},
   "source": [
    "The SALT model used for SNIa has the following parameters for each SNIa :\n",
    "```x0, x1, c, z, t0 ```. `t0` is the time of the peak in B band, and this is expected to be uniformly distributed in time. The remaining parameters are from a population distribution, which was trained on the SNLS data by David Rubin. The result is parametrized in terms of a distribution of ```x1, c, mBB``` where `mBB` is an auxillary parameter, related to `mB` the `BessellB` band peak magnitude by a `H0=70` cosmology distance. The model here adds an intrinsic dispersion in the luminosity."
   ]
  },
  {
   "cell_type": "markdown",
   "metadata": {},
   "source": [
    "As, with `SimpleSALTPopulation`, there are two ways to use `GMM_SALTPopulation`:\n",
    "1. Use it with a supplied sample of SN redshifts.\n",
    "2. Supply it with the area of the sky, the duration of the survey, and the redshift bounds, and it will use a powerlaw rate for SN to obtain a redshift sample, and run through with the previous case. \n",
    "\n",
    "To start with we describe the first case"
   ]
  },
  {
   "cell_type": "markdown",
   "metadata": {},
   "source": [
    "### `GMM_SALTPopulation`"
   ]
  },
  {
   "cell_type": "markdown",
   "metadata": {},
   "source": [
    "obtain a set of samples for the redshift"
   ]
  },
  {
   "cell_type": "code",
   "execution_count": 6,
   "metadata": {},
   "outputs": [
    {
     "name": "stdout",
     "output_type": "stream",
     "text": [
      "[ 0.79647466  0.8414543   0.22263925  0.36755547  0.00899544  0.53472295\n",
      "  0.95582139  0.7039094   0.45199513  0.40171653]\n"
     ]
    }
   ],
   "source": [
    "zSamples = np.random.uniform(0, 1.0, size=10)\n",
    "print(zSamples)"
   ]
  },
  {
   "cell_type": "markdown",
   "metadata": {},
   "source": [
    "Instantiate the object"
   ]
  },
  {
   "cell_type": "code",
   "execution_count": 7,
   "metadata": {},
   "outputs": [],
   "source": [
    "gp = GMM_SALTPopulation(zSamples, rng=np.random.RandomState(1))"
   ]
  },
  {
   "cell_type": "code",
   "execution_count": 8,
   "metadata": {},
   "outputs": [
    {
     "data": {
      "text/plain": [
       "array([0, 1, 2, 3, 4, 5, 6, 7, 8, 9])"
      ]
     },
     "execution_count": 8,
     "metadata": {},
     "output_type": "execute_result"
    }
   ],
   "source": [
    "gp.idxvalues"
   ]
  },
  {
   "cell_type": "code",
   "execution_count": 9,
   "metadata": {},
   "outputs": [
    {
     "data": {
      "text/plain": [
       "True"
      ]
     },
     "execution_count": 9,
     "metadata": {},
     "output_type": "execute_result"
    }
   ],
   "source": [
    "all(gp.zSamples == zSamples)"
   ]
  },
  {
   "cell_type": "code",
   "execution_count": 10,
   "metadata": {},
   "outputs": [
    {
     "data": {
      "text/plain": [
       "FlatLambdaCDM(name=\"Planck15\", H0=67.7 km / (Mpc s), Om0=0.307, Tcmb0=2.725 K, Neff=3.05, m_nu=[ 0.    0.    0.06] eV, Ob0=0.0486)"
      ]
     },
     "execution_count": 10,
     "metadata": {},
     "output_type": "execute_result"
    }
   ],
   "source": [
    "gp.cosmo"
   ]
  },
  {
   "cell_type": "code",
   "execution_count": 11,
   "metadata": {},
   "outputs": [
    {
     "data": {
      "text/html": [
       "<div>\n",
       "<style scoped>\n",
       "    .dataframe tbody tr th:only-of-type {\n",
       "        vertical-align: middle;\n",
       "    }\n",
       "\n",
       "    .dataframe tbody tr th {\n",
       "        vertical-align: top;\n",
       "    }\n",
       "\n",
       "    .dataframe thead th {\n",
       "        text-align: right;\n",
       "    }\n",
       "</style>\n",
       "<table border=\"1\" class=\"dataframe\">\n",
       "  <thead>\n",
       "    <tr style=\"text-align: right;\">\n",
       "      <th></th>\n",
       "      <th>Mabs</th>\n",
       "      <th>MnoDisp</th>\n",
       "      <th>c</th>\n",
       "      <th>mB</th>\n",
       "      <th>mBB</th>\n",
       "      <th>t0</th>\n",
       "      <th>x0</th>\n",
       "      <th>x1</th>\n",
       "      <th>z</th>\n",
       "      <th>model</th>\n",
       "    </tr>\n",
       "    <tr>\n",
       "      <th>idx</th>\n",
       "      <th></th>\n",
       "      <th></th>\n",
       "      <th></th>\n",
       "      <th></th>\n",
       "      <th></th>\n",
       "      <th></th>\n",
       "      <th></th>\n",
       "      <th></th>\n",
       "      <th></th>\n",
       "      <th></th>\n",
       "    </tr>\n",
       "  </thead>\n",
       "  <tbody>\n",
       "    <tr>\n",
       "      <th>0</th>\n",
       "      <td>-19.181419</td>\n",
       "      <td>-19.443140</td>\n",
       "      <td>-0.058708</td>\n",
       "      <td>24.370762</td>\n",
       "      <td>24.109040</td>\n",
       "      <td>61102.130317</td>\n",
       "      <td>2.833297e-06</td>\n",
       "      <td>0.582514</td>\n",
       "      <td>0.796475</td>\n",
       "      <td>SALT2</td>\n",
       "    </tr>\n",
       "    <tr>\n",
       "      <th>1</th>\n",
       "      <td>-19.385283</td>\n",
       "      <td>-19.271102</td>\n",
       "      <td>-0.081481</td>\n",
       "      <td>24.313299</td>\n",
       "      <td>24.427480</td>\n",
       "      <td>62209.184401</td>\n",
       "      <td>2.989956e-06</td>\n",
       "      <td>-1.206104</td>\n",
       "      <td>0.841454</td>\n",
       "      <td>SALT2</td>\n",
       "    </tr>\n",
       "    <tr>\n",
       "      <th>2</th>\n",
       "      <td>-19.448615</td>\n",
       "      <td>-19.496471</td>\n",
       "      <td>-0.088887</td>\n",
       "      <td>20.836860</td>\n",
       "      <td>20.789004</td>\n",
       "      <td>59580.417468</td>\n",
       "      <td>7.342866e-05</td>\n",
       "      <td>0.264430</td>\n",
       "      <td>0.222639</td>\n",
       "      <td>SALT2</td>\n",
       "    </tr>\n",
       "    <tr>\n",
       "      <th>3</th>\n",
       "      <td>-18.922170</td>\n",
       "      <td>-18.884765</td>\n",
       "      <td>-0.007723</td>\n",
       "      <td>22.612318</td>\n",
       "      <td>22.649723</td>\n",
       "      <td>60683.513890</td>\n",
       "      <td>1.433366e-05</td>\n",
       "      <td>-2.298455</td>\n",
       "      <td>0.367555</td>\n",
       "      <td>SALT2</td>\n",
       "    </tr>\n",
       "    <tr>\n",
       "      <th>4</th>\n",
       "      <td>-19.253680</td>\n",
       "      <td>-19.472997</td>\n",
       "      <td>-0.074439</td>\n",
       "      <td>13.761216</td>\n",
       "      <td>13.541900</td>\n",
       "      <td>60115.659001</td>\n",
       "      <td>4.967280e-02</td>\n",
       "      <td>0.431247</td>\n",
       "      <td>0.008995</td>\n",
       "      <td>SALT2</td>\n",
       "    </tr>\n",
       "    <tr>\n",
       "      <th>5</th>\n",
       "      <td>-19.575240</td>\n",
       "      <td>-19.266218</td>\n",
       "      <td>-0.024769</td>\n",
       "      <td>22.925352</td>\n",
       "      <td>23.234373</td>\n",
       "      <td>59917.035871</td>\n",
       "      <td>1.072678e-05</td>\n",
       "      <td>0.697817</td>\n",
       "      <td>0.534723</td>\n",
       "      <td>SALT2</td>\n",
       "    </tr>\n",
       "    <tr>\n",
       "      <th>6</th>\n",
       "      <td>-18.521246</td>\n",
       "      <td>-18.472883</td>\n",
       "      <td>0.101307</td>\n",
       "      <td>25.517773</td>\n",
       "      <td>25.566136</td>\n",
       "      <td>60259.849772</td>\n",
       "      <td>9.862645e-07</td>\n",
       "      <td>-2.750346</td>\n",
       "      <td>0.955821</td>\n",
       "      <td>SALT2</td>\n",
       "    </tr>\n",
       "    <tr>\n",
       "      <th>7</th>\n",
       "      <td>-19.718884</td>\n",
       "      <td>-19.661276</td>\n",
       "      <td>-0.155729</td>\n",
       "      <td>23.505096</td>\n",
       "      <td>23.562704</td>\n",
       "      <td>60841.296654</td>\n",
       "      <td>6.285651e-06</td>\n",
       "      <td>-0.097747</td>\n",
       "      <td>0.703909</td>\n",
       "      <td>SALT2</td>\n",
       "    </tr>\n",
       "    <tr>\n",
       "      <th>8</th>\n",
       "      <td>-18.911581</td>\n",
       "      <td>-19.081646</td>\n",
       "      <td>0.052124</td>\n",
       "      <td>23.152632</td>\n",
       "      <td>22.982567</td>\n",
       "      <td>61028.201281</td>\n",
       "      <td>8.696140e-06</td>\n",
       "      <td>1.151479</td>\n",
       "      <td>0.451995</td>\n",
       "      <td>SALT2</td>\n",
       "    </tr>\n",
       "    <tr>\n",
       "      <th>9</th>\n",
       "      <td>-19.681692</td>\n",
       "      <td>-19.516709</td>\n",
       "      <td>-0.144747</td>\n",
       "      <td>22.079437</td>\n",
       "      <td>22.244420</td>\n",
       "      <td>61546.681079</td>\n",
       "      <td>2.338138e-05</td>\n",
       "      <td>-0.895762</td>\n",
       "      <td>0.401717</td>\n",
       "      <td>SALT2</td>\n",
       "    </tr>\n",
       "  </tbody>\n",
       "</table>\n",
       "</div>"
      ],
      "text/plain": [
       "          Mabs    MnoDisp         c         mB        mBB            t0  \\\n",
       "idx                                                                       \n",
       "0   -19.181419 -19.443140 -0.058708  24.370762  24.109040  61102.130317   \n",
       "1   -19.385283 -19.271102 -0.081481  24.313299  24.427480  62209.184401   \n",
       "2   -19.448615 -19.496471 -0.088887  20.836860  20.789004  59580.417468   \n",
       "3   -18.922170 -18.884765 -0.007723  22.612318  22.649723  60683.513890   \n",
       "4   -19.253680 -19.472997 -0.074439  13.761216  13.541900  60115.659001   \n",
       "5   -19.575240 -19.266218 -0.024769  22.925352  23.234373  59917.035871   \n",
       "6   -18.521246 -18.472883  0.101307  25.517773  25.566136  60259.849772   \n",
       "7   -19.718884 -19.661276 -0.155729  23.505096  23.562704  60841.296654   \n",
       "8   -18.911581 -19.081646  0.052124  23.152632  22.982567  61028.201281   \n",
       "9   -19.681692 -19.516709 -0.144747  22.079437  22.244420  61546.681079   \n",
       "\n",
       "               x0        x1         z  model  \n",
       "idx                                           \n",
       "0    2.833297e-06  0.582514  0.796475  SALT2  \n",
       "1    2.989956e-06 -1.206104  0.841454  SALT2  \n",
       "2    7.342866e-05  0.264430  0.222639  SALT2  \n",
       "3    1.433366e-05 -2.298455  0.367555  SALT2  \n",
       "4    4.967280e-02  0.431247  0.008995  SALT2  \n",
       "5    1.072678e-05  0.697817  0.534723  SALT2  \n",
       "6    9.862645e-07 -2.750346  0.955821  SALT2  \n",
       "7    6.285651e-06 -0.097747  0.703909  SALT2  \n",
       "8    8.696140e-06  1.151479  0.451995  SALT2  \n",
       "9    2.338138e-05 -0.895762  0.401717  SALT2  "
      ]
     },
     "execution_count": 11,
     "metadata": {},
     "output_type": "execute_result"
    }
   ],
   "source": [
    "gp.paramsTable"
   ]
  },
  {
   "cell_type": "code",
   "execution_count": 12,
   "metadata": {},
   "outputs": [
    {
     "data": {
      "text/plain": [
       "OrderedDict([('Mabs', -18.922170434978462),\n",
       "             ('MnoDisp', -18.884764878656849),\n",
       "             ('c', -0.0077234443644439224),\n",
       "             ('mB', 22.612317604494855),\n",
       "             ('mBB', 22.649723160816468),\n",
       "             ('t0', 60683.513890106216),\n",
       "             ('x0', 1.4333656865173499e-05),\n",
       "             ('x1', -2.2984551232434574),\n",
       "             ('z', 0.36755547408060329),\n",
       "             ('model', 'SALT2')])"
      ]
     },
     "execution_count": 12,
     "metadata": {},
     "output_type": "execute_result"
    }
   ],
   "source": [
    "gp.modelParams(3)"
   ]
  },
  {
   "cell_type": "markdown",
   "metadata": {},
   "source": [
    "### 2. Generate From the skyArea, redshift bounds and survey Duration\n",
    "\n",
    "This uses the `fromSkyArea` method\n",
    "\n",
    "In general, we will not have a redshift distribution or a redshift sample to use. In this case, we prefer to use \n",
    "the `fromSkyArea` method which instead obtains these samples from using the fieldArea, zmin and zmax. Right now, we also need `numzBins` because of the binned implementation which we will later get rid of."
   ]
  },
  {
   "cell_type": "code",
   "execution_count": 13,
   "metadata": {},
   "outputs": [],
   "source": [
    "gpz = GMM_SALTPopulation.fromSkyArea(rng=np.random.RandomState(1), fieldArea=0.5)"
   ]
  },
  {
   "cell_type": "code",
   "execution_count": 14,
   "metadata": {},
   "outputs": [
    {
     "data": {
      "text/plain": [
       "1359"
      ]
     },
     "execution_count": 14,
     "metadata": {},
     "output_type": "execute_result"
    }
   ],
   "source": [
    "gpz.zSamples.size"
   ]
  },
  {
   "cell_type": "code",
   "execution_count": 15,
   "metadata": {},
   "outputs": [
    {
     "data": {
      "text/plain": [
       "1359"
      ]
     },
     "execution_count": 15,
     "metadata": {},
     "output_type": "execute_result"
    }
   ],
   "source": [
    "gpz.numSources"
   ]
  },
  {
   "cell_type": "code",
   "execution_count": 16,
   "metadata": {},
   "outputs": [
    {
     "data": {
      "text/html": [
       "<div>\n",
       "<style scoped>\n",
       "    .dataframe tbody tr th:only-of-type {\n",
       "        vertical-align: middle;\n",
       "    }\n",
       "\n",
       "    .dataframe tbody tr th {\n",
       "        vertical-align: top;\n",
       "    }\n",
       "\n",
       "    .dataframe thead th {\n",
       "        text-align: right;\n",
       "    }\n",
       "</style>\n",
       "<table border=\"1\" class=\"dataframe\">\n",
       "  <thead>\n",
       "    <tr style=\"text-align: right;\">\n",
       "      <th></th>\n",
       "      <th>Mabs</th>\n",
       "      <th>MnoDisp</th>\n",
       "      <th>c</th>\n",
       "      <th>mB</th>\n",
       "      <th>mBB</th>\n",
       "      <th>t0</th>\n",
       "      <th>x0</th>\n",
       "      <th>x1</th>\n",
       "      <th>z</th>\n",
       "      <th>model</th>\n",
       "    </tr>\n",
       "    <tr>\n",
       "      <th>idx</th>\n",
       "      <th></th>\n",
       "      <th></th>\n",
       "      <th></th>\n",
       "      <th></th>\n",
       "      <th></th>\n",
       "      <th></th>\n",
       "      <th></th>\n",
       "      <th></th>\n",
       "      <th></th>\n",
       "      <th></th>\n",
       "    </tr>\n",
       "  </thead>\n",
       "  <tbody>\n",
       "    <tr>\n",
       "      <th>0</th>\n",
       "      <td>-19.431781</td>\n",
       "      <td>-19.231343</td>\n",
       "      <td>-0.113137</td>\n",
       "      <td>19.477864</td>\n",
       "      <td>19.678303</td>\n",
       "      <td>62172.794211</td>\n",
       "      <td>0.000257</td>\n",
       "      <td>-2.238166</td>\n",
       "      <td>0.125250</td>\n",
       "      <td>SALT2</td>\n",
       "    </tr>\n",
       "    <tr>\n",
       "      <th>1</th>\n",
       "      <td>-19.611670</td>\n",
       "      <td>-19.663938</td>\n",
       "      <td>-0.117799</td>\n",
       "      <td>19.679116</td>\n",
       "      <td>19.626848</td>\n",
       "      <td>61243.098500</td>\n",
       "      <td>0.000213</td>\n",
       "      <td>0.809342</td>\n",
       "      <td>0.147226</td>\n",
       "      <td>SALT2</td>\n",
       "    </tr>\n",
       "    <tr>\n",
       "      <th>2</th>\n",
       "      <td>-19.358236</td>\n",
       "      <td>-19.199378</td>\n",
       "      <td>0.024133</td>\n",
       "      <td>20.294084</td>\n",
       "      <td>20.452943</td>\n",
       "      <td>61789.027067</td>\n",
       "      <td>0.000121</td>\n",
       "      <td>0.743037</td>\n",
       "      <td>0.171353</td>\n",
       "      <td>SALT2</td>\n",
       "    </tr>\n",
       "    <tr>\n",
       "      <th>3</th>\n",
       "      <td>-18.774568</td>\n",
       "      <td>-18.737321</td>\n",
       "      <td>0.071606</td>\n",
       "      <td>21.293352</td>\n",
       "      <td>21.330599</td>\n",
       "      <td>63194.982619</td>\n",
       "      <td>0.000048</td>\n",
       "      <td>-0.905112</td>\n",
       "      <td>0.203602</td>\n",
       "      <td>SALT2</td>\n",
       "    </tr>\n",
       "    <tr>\n",
       "      <th>4</th>\n",
       "      <td>-19.046238</td>\n",
       "      <td>-19.063642</td>\n",
       "      <td>0.031013</td>\n",
       "      <td>21.324655</td>\n",
       "      <td>21.307252</td>\n",
       "      <td>62404.794312</td>\n",
       "      <td>0.000047</td>\n",
       "      <td>-0.086241</td>\n",
       "      <td>0.230553</td>\n",
       "      <td>SALT2</td>\n",
       "    </tr>\n",
       "  </tbody>\n",
       "</table>\n",
       "</div>"
      ],
      "text/plain": [
       "          Mabs    MnoDisp         c         mB        mBB            t0  \\\n",
       "idx                                                                       \n",
       "0   -19.431781 -19.231343 -0.113137  19.477864  19.678303  62172.794211   \n",
       "1   -19.611670 -19.663938 -0.117799  19.679116  19.626848  61243.098500   \n",
       "2   -19.358236 -19.199378  0.024133  20.294084  20.452943  61789.027067   \n",
       "3   -18.774568 -18.737321  0.071606  21.293352  21.330599  63194.982619   \n",
       "4   -19.046238 -19.063642  0.031013  21.324655  21.307252  62404.794312   \n",
       "\n",
       "           x0        x1         z  model  \n",
       "idx                                       \n",
       "0    0.000257 -2.238166  0.125250  SALT2  \n",
       "1    0.000213  0.809342  0.147226  SALT2  \n",
       "2    0.000121  0.743037  0.171353  SALT2  \n",
       "3    0.000048 -0.905112  0.203602  SALT2  \n",
       "4    0.000047 -0.086241  0.230553  SALT2  "
      ]
     },
     "execution_count": 16,
     "metadata": {},
     "output_type": "execute_result"
    }
   ],
   "source": [
    "gpz.paramsTable.head()"
   ]
  },
  {
   "cell_type": "markdown",
   "metadata": {},
   "source": [
    "## Characterizations of the Distribution"
   ]
  },
  {
   "cell_type": "markdown",
   "metadata": {},
   "source": [
    "## Form of the internal dispersion"
   ]
  },
  {
   "cell_type": "code",
   "execution_count": 17,
   "metadata": {},
   "outputs": [],
   "source": [
    "import scipy"
   ]
  },
  {
   "cell_type": "code",
   "execution_count": 18,
   "metadata": {},
   "outputs": [
    {
     "data": {
      "text/plain": [
       "<matplotlib.axes._subplots.AxesSubplot at 0x11b6ada20>"
      ]
     },
     "execution_count": 18,
     "metadata": {},
     "output_type": "execute_result"
    },
    {
     "data": {
      "image/png": "[encoded data removed]",
      "text/plain": [
       "<matplotlib.figure.Figure at 0x11b6ad198>"
      ]
     },
     "metadata": {},
     "output_type": "display_data"
    }
   ],
   "source": [
    "fig, ax = plt.subplots()\n",
    "sns.distplot(gpz.paramsTable.Mabs - gpz.paramsTable.MnoDisp, hist=False, fit=scipy.stats.norm)"
   ]
  },
  {
   "cell_type": "markdown",
   "metadata": {},
   "source": [
    "## Checks on the Hubble Diagram"
   ]
  },
  {
   "cell_type": "code",
   "execution_count": 19,
   "metadata": {},
   "outputs": [],
   "source": [
    "from astropy.cosmology import Planck15"
   ]
  },
  {
   "cell_type": "code",
   "execution_count": 20,
   "metadata": {},
   "outputs": [
    {
     "data": {
      "text/plain": [
       "[<matplotlib.lines.Line2D at 0x11baefb38>]"
      ]
     },
     "execution_count": 20,
     "metadata": {},
     "output_type": "execute_result"
    },
    {
     "data": {
      "image/png": "[encoded data removed]",
      "text/plain": [
       "<matplotlib.figure.Figure at 0x11b92da58>"
      ]
     },
     "metadata": {},
     "output_type": "display_data"
    }
   ],
   "source": [
    "fig, ax = plt.subplots(1, 4)\n",
    "ax[0].plot(gpz.paramsTable.z, gpz.paramsTable.mB, '.')\n",
    "ax[0].plot(gpz.paramsTable.z, gpz.paramsTable.Mabs, '.')\n",
    "ax[1].plot(gpz.paramsTable.z, gpz.paramsTable.mB - gpz.paramsTable.Mabs, color='r')\n",
    "ax[1].plot(gpz.paramsTable.z, Planck15.distmod(gpz.paramsTable.z).value, color='k', lw=2)\n",
    "ax[2].plot(gpz.paramsTable.z, gpz.paramsTable.mB - gpz.paramsTable.Mabs - Planck15.distmod(gpz.paramsTable.z).value, 'r.')\n",
    "ax[3].plot(gpz.paramsTable.z, gpz.paramsTable.mB - gpz.paramsTable.MnoDisp - Planck15.distmod(gpz.paramsTable.z).value, 'k.')"
   ]
  },
  {
   "cell_type": "markdown",
   "metadata": {},
   "source": [
    "## Distribution of x1 and c"
   ]
  },
  {
   "cell_type": "code",
   "execution_count": 21,
   "metadata": {},
   "outputs": [
    {
     "data": {
      "image/png": "[encoded data removed]",
      "text/plain": [
       "<matplotlib.figure.Figure at 0x11b7f7978>"
      ]
     },
     "metadata": {},
     "output_type": "display_data"
    }
   ],
   "source": [
    "#fig = plt.figure(figsize=(6,6))\n",
    "jp = sns.jointplot(data=gpz.paramsTable, x='x1', y='c', kind='kde')\n",
    "jp.fig.set_figheight(6)\n",
    "jp.fig.set_figwidth(6)"
   ]
  },
  {
   "cell_type": "code",
   "execution_count": 22,
   "metadata": {},
   "outputs": [
    {
     "data": {
      "text/plain": [
       "0.07237693472284888"
      ]
     },
     "execution_count": 22,
     "metadata": {},
     "output_type": "execute_result"
    }
   ],
   "source": [
    "gpz.paramsTable.c.std()"
   ]
  },
  {
   "cell_type": "code",
   "execution_count": 23,
   "metadata": {},
   "outputs": [
    {
     "data": {
      "text/plain": [
       "0.9459601513058118"
      ]
     },
     "execution_count": 23,
     "metadata": {},
     "output_type": "execute_result"
    }
   ],
   "source": [
    "gpz.paramsTable.x1.std()"
   ]
  },
  {
   "cell_type": "code",
   "execution_count": null,
   "metadata": {},
   "outputs": [],
   "source": []
  }
 ],
 "metadata": {
  "kernelspec": {
   "display_name": "Python 3",
   "language": "python",
   "name": "python3"
  },
  "language_info": {
   "codemirror_mode": {
    "name": "ipython",
    "version": 3
   },
   "file_extension": ".py",
   "mimetype": "text/x-python",
   "name": "python",
   "nbconvert_exporter": "python",
   "pygments_lexer": "ipython3",
   "version": "3.6.4"
  }
 },
 "nbformat": 4,
 "nbformat_minor": 2
}
