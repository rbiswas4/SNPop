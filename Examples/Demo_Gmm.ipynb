{
 "cells": [
  {
   "cell_type": "code",
   "execution_count": 1,
   "metadata": {},
   "outputs": [],
   "source": [
    "%load_ext autoreload\n",
    "%autoreload 2"
   ]
  },
  {
   "cell_type": "code",
   "execution_count": 2,
   "metadata": {},
   "outputs": [],
   "source": [
    "import numpy as np\n",
    "%matplotlib inline\n",
    "import matplotlib.pyplot as plt\n",
    "import seaborn as sns\n",
    "sns.set_style('whitegrid')"
   ]
  },
  {
   "cell_type": "code",
   "execution_count": 3,
   "metadata": {},
   "outputs": [],
   "source": [
    "import sncosmo\n",
    "import tdaspop\n",
    "import snpop"
   ]
  },
  {
   "cell_type": "code",
   "execution_count": 4,
   "metadata": {},
   "outputs": [],
   "source": [
    "from snpop import SimpleSALTPopulation, GMM_SALTPopulation"
   ]
  },
  {
   "cell_type": "code",
   "execution_count": 5,
   "metadata": {},
   "outputs": [],
   "source": [
    "from collections import OrderedDict"
   ]
  },
  {
   "cell_type": "code",
   "execution_count": 6,
   "metadata": {},
   "outputs": [
    {
     "name": "stdout",
     "output_type": "stream",
     "text": [
      "1.7.1\n",
      "0.1.6\n",
      "0.1.6dev2\n",
      "/Users/rbiswas/src/SNPop/snpop/__init__.py\n"
     ]
    }
   ],
   "source": [
    "print(sncosmo.__version__)\n",
    "print(tdaspop.__version__)\n",
    "print(snpop.__version__)\n",
    "print(snpop.__file__)"
   ]
  },
  {
   "cell_type": "markdown",
   "metadata": {},
   "source": [
    "# GMM SALT Distributions"
   ]
  },
  {
   "cell_type": "markdown",
   "metadata": {},
   "source": [
    "The SALT model used for SNIa has the following parameters for each SNIa :\n",
    "```x0, x1, c, z, t0 ```. `t0` is the time of the peak in B band, and this is expected to be uniformly distributed in time. The remaining parameters are from a population distribution, which was trained on the SNLS data by David Rubin. The result is parametrized in terms of a distribution of ```x1, c, mBB``` where `mBB` is an auxillary parameter, related to `mB` the `BessellB` band peak magnitude by a `H0=70` cosmology distance. The model here adds an intrinsic dispersion in the luminosity."
   ]
  },
  {
   "cell_type": "markdown",
   "metadata": {},
   "source": [
    "As, with `SimpleSALTPopulation`, there are two ways to use `GMM_SALTPopulation`:\n",
    "1. Use it with a supplied sample of SN redshifts.\n",
    "2. Supply it with the area of the sky, the duration of the survey, and the redshift bounds, and it will use a powerlaw rate for SN to obtain a redshift sample, and run through with the previous case. \n",
    "\n",
    "To start with we describe the first case"
   ]
  },
  {
   "cell_type": "markdown",
   "metadata": {},
   "source": [
    "### `GMM_SALTPopulation`"
   ]
  },
  {
   "cell_type": "markdown",
   "metadata": {},
   "source": [
    "obtain a set of samples for the redshift"
   ]
  },
  {
   "cell_type": "code",
   "execution_count": 7,
   "metadata": {},
   "outputs": [
    {
     "name": "stdout",
     "output_type": "stream",
     "text": [
      "[0.75829026 0.33989072 0.58997673 0.00099661 0.66107825 0.59012635\n",
      " 0.981699   0.27328391 0.77093857 0.31076129]\n"
     ]
    }
   ],
   "source": [
    "zSamples = np.random.uniform(0, 1.0, size=10)\n",
    "print(zSamples)"
   ]
  },
  {
   "cell_type": "markdown",
   "metadata": {},
   "source": [
    "Instantiate the object"
   ]
  },
  {
   "cell_type": "code",
   "execution_count": 8,
   "metadata": {},
   "outputs": [],
   "source": [
    "gp = GMM_SALTPopulation(zSamples, rng=np.random.RandomState(1))"
   ]
  },
  {
   "cell_type": "code",
   "execution_count": 9,
   "metadata": {},
   "outputs": [
    {
     "data": {
      "text/plain": [
       "array([0, 1, 2, 3, 4, 5, 6, 7, 8, 9])"
      ]
     },
     "execution_count": 9,
     "metadata": {},
     "output_type": "execute_result"
    }
   ],
   "source": [
    "gp.idxvalues"
   ]
  },
  {
   "cell_type": "code",
   "execution_count": 10,
   "metadata": {},
   "outputs": [
    {
     "data": {
      "text/plain": [
       "True"
      ]
     },
     "execution_count": 10,
     "metadata": {},
     "output_type": "execute_result"
    }
   ],
   "source": [
    "all(gp.zSamples == zSamples)"
   ]
  },
  {
   "cell_type": "code",
   "execution_count": 11,
   "metadata": {},
   "outputs": [
    {
     "data": {
      "text/plain": [
       "FlatLambdaCDM(name=\"Planck15\", H0=67.7 km / (Mpc s), Om0=0.307, Tcmb0=2.725 K, Neff=3.05, m_nu=[0.   0.   0.06] eV, Ob0=0.0486)"
      ]
     },
     "execution_count": 11,
     "metadata": {},
     "output_type": "execute_result"
    }
   ],
   "source": [
    "gp.cosmo"
   ]
  },
  {
   "cell_type": "code",
   "execution_count": 12,
   "metadata": {},
   "outputs": [
    {
     "data": {
      "text/html": [
       "<div>\n",
       "<style scoped>\n",
       "    .dataframe tbody tr th:only-of-type {\n",
       "        vertical-align: middle;\n",
       "    }\n",
       "\n",
       "    .dataframe tbody tr th {\n",
       "        vertical-align: top;\n",
       "    }\n",
       "\n",
       "    .dataframe thead th {\n",
       "        text-align: right;\n",
       "    }\n",
       "</style>\n",
       "<table border=\"1\" class=\"dataframe\">\n",
       "  <thead>\n",
       "    <tr style=\"text-align: right;\">\n",
       "      <th></th>\n",
       "      <th>x0</th>\n",
       "      <th>mB</th>\n",
       "      <th>x1</th>\n",
       "      <th>c</th>\n",
       "      <th>mBB</th>\n",
       "      <th>MnoDisp</th>\n",
       "      <th>Mabs</th>\n",
       "      <th>t0</th>\n",
       "      <th>z</th>\n",
       "      <th>model</th>\n",
       "    </tr>\n",
       "    <tr>\n",
       "      <th>idx</th>\n",
       "      <th></th>\n",
       "      <th></th>\n",
       "      <th></th>\n",
       "      <th></th>\n",
       "      <th></th>\n",
       "      <th></th>\n",
       "      <th></th>\n",
       "      <th></th>\n",
       "      <th></th>\n",
       "      <th></th>\n",
       "    </tr>\n",
       "  </thead>\n",
       "  <tbody>\n",
       "    <tr>\n",
       "      <th>0</th>\n",
       "      <td>0.000003</td>\n",
       "      <td>24.472506</td>\n",
       "      <td>1.058928</td>\n",
       "      <td>0.007946</td>\n",
       "      <td>24.210784</td>\n",
       "      <td>-19.210698</td>\n",
       "      <td>-18.948976</td>\n",
       "      <td>61102.130317</td>\n",
       "      <td>0.758290</td>\n",
       "      <td>SALT2</td>\n",
       "    </tr>\n",
       "    <tr>\n",
       "      <th>1</th>\n",
       "      <td>0.000010</td>\n",
       "      <td>22.971869</td>\n",
       "      <td>-0.309536</td>\n",
       "      <td>0.248835</td>\n",
       "      <td>23.086050</td>\n",
       "      <td>-18.250181</td>\n",
       "      <td>-18.364362</td>\n",
       "      <td>62209.184401</td>\n",
       "      <td>0.339891</td>\n",
       "      <td>SALT2</td>\n",
       "    </tr>\n",
       "    <tr>\n",
       "      <th>2</th>\n",
       "      <td>0.000004</td>\n",
       "      <td>24.048984</td>\n",
       "      <td>-0.591849</td>\n",
       "      <td>0.078846</td>\n",
       "      <td>24.001129</td>\n",
       "      <td>-18.756967</td>\n",
       "      <td>-18.709111</td>\n",
       "      <td>59580.417468</td>\n",
       "      <td>0.589977</td>\n",
       "      <td>SALT2</td>\n",
       "    </tr>\n",
       "    <tr>\n",
       "      <th>3</th>\n",
       "      <td>4.754395</td>\n",
       "      <td>8.808869</td>\n",
       "      <td>0.276344</td>\n",
       "      <td>-0.077539</td>\n",
       "      <td>8.846274</td>\n",
       "      <td>-19.377881</td>\n",
       "      <td>-19.415287</td>\n",
       "      <td>60683.513890</td>\n",
       "      <td>0.000997</td>\n",
       "      <td>SALT2</td>\n",
       "    </tr>\n",
       "    <tr>\n",
       "      <th>4</th>\n",
       "      <td>0.000003</td>\n",
       "      <td>24.193546</td>\n",
       "      <td>-0.450145</td>\n",
       "      <td>0.009225</td>\n",
       "      <td>23.974229</td>\n",
       "      <td>-19.083635</td>\n",
       "      <td>-18.864319</td>\n",
       "      <td>60115.659001</td>\n",
       "      <td>0.661078</td>\n",
       "      <td>SALT2</td>\n",
       "    </tr>\n",
       "    <tr>\n",
       "      <th>5</th>\n",
       "      <td>0.000007</td>\n",
       "      <td>23.380180</td>\n",
       "      <td>0.969742</td>\n",
       "      <td>0.074249</td>\n",
       "      <td>23.689201</td>\n",
       "      <td>-19.069560</td>\n",
       "      <td>-19.378581</td>\n",
       "      <td>59917.035871</td>\n",
       "      <td>0.590126</td>\n",
       "      <td>SALT2</td>\n",
       "    </tr>\n",
       "    <tr>\n",
       "      <th>6</th>\n",
       "      <td>0.000002</td>\n",
       "      <td>24.674391</td>\n",
       "      <td>1.039336</td>\n",
       "      <td>-0.048066</td>\n",
       "      <td>24.722753</td>\n",
       "      <td>-19.387739</td>\n",
       "      <td>-19.436102</td>\n",
       "      <td>60259.849772</td>\n",
       "      <td>0.981699</td>\n",
       "      <td>SALT2</td>\n",
       "    </tr>\n",
       "    <tr>\n",
       "      <th>7</th>\n",
       "      <td>0.000025</td>\n",
       "      <td>22.013980</td>\n",
       "      <td>-2.194071</td>\n",
       "      <td>0.048549</td>\n",
       "      <td>22.071588</td>\n",
       "      <td>-18.718499</td>\n",
       "      <td>-18.776107</td>\n",
       "      <td>60841.296654</td>\n",
       "      <td>0.273284</td>\n",
       "      <td>SALT2</td>\n",
       "    </tr>\n",
       "    <tr>\n",
       "      <th>8</th>\n",
       "      <td>0.000004</td>\n",
       "      <td>24.091267</td>\n",
       "      <td>0.205920</td>\n",
       "      <td>-0.106301</td>\n",
       "      <td>23.921201</td>\n",
       "      <td>-19.544263</td>\n",
       "      <td>-19.374197</td>\n",
       "      <td>61028.201281</td>\n",
       "      <td>0.770939</td>\n",
       "      <td>SALT2</td>\n",
       "    </tr>\n",
       "    <tr>\n",
       "      <th>9</th>\n",
       "      <td>0.000031</td>\n",
       "      <td>21.785120</td>\n",
       "      <td>-0.735527</td>\n",
       "      <td>-0.026938</td>\n",
       "      <td>21.950103</td>\n",
       "      <td>-19.160621</td>\n",
       "      <td>-19.325605</td>\n",
       "      <td>61546.681079</td>\n",
       "      <td>0.310761</td>\n",
       "      <td>SALT2</td>\n",
       "    </tr>\n",
       "  </tbody>\n",
       "</table>\n",
       "</div>"
      ],
      "text/plain": [
       "           x0         mB        x1         c        mBB    MnoDisp       Mabs  \\\n",
       "idx                                                                             \n",
       "0    0.000003  24.472506  1.058928  0.007946  24.210784 -19.210698 -18.948976   \n",
       "1    0.000010  22.971869 -0.309536  0.248835  23.086050 -18.250181 -18.364362   \n",
       "2    0.000004  24.048984 -0.591849  0.078846  24.001129 -18.756967 -18.709111   \n",
       "3    4.754395   8.808869  0.276344 -0.077539   8.846274 -19.377881 -19.415287   \n",
       "4    0.000003  24.193546 -0.450145  0.009225  23.974229 -19.083635 -18.864319   \n",
       "5    0.000007  23.380180  0.969742  0.074249  23.689201 -19.069560 -19.378581   \n",
       "6    0.000002  24.674391  1.039336 -0.048066  24.722753 -19.387739 -19.436102   \n",
       "7    0.000025  22.013980 -2.194071  0.048549  22.071588 -18.718499 -18.776107   \n",
       "8    0.000004  24.091267  0.205920 -0.106301  23.921201 -19.544263 -19.374197   \n",
       "9    0.000031  21.785120 -0.735527 -0.026938  21.950103 -19.160621 -19.325605   \n",
       "\n",
       "               t0         z  model  \n",
       "idx                                 \n",
       "0    61102.130317  0.758290  SALT2  \n",
       "1    62209.184401  0.339891  SALT2  \n",
       "2    59580.417468  0.589977  SALT2  \n",
       "3    60683.513890  0.000997  SALT2  \n",
       "4    60115.659001  0.661078  SALT2  \n",
       "5    59917.035871  0.590126  SALT2  \n",
       "6    60259.849772  0.981699  SALT2  \n",
       "7    60841.296654  0.273284  SALT2  \n",
       "8    61028.201281  0.770939  SALT2  \n",
       "9    61546.681079  0.310761  SALT2  "
      ]
     },
     "execution_count": 12,
     "metadata": {},
     "output_type": "execute_result"
    }
   ],
   "source": [
    "gp.paramsTable"
   ]
  },
  {
   "cell_type": "code",
   "execution_count": 13,
   "metadata": {},
   "outputs": [
    {
     "data": {
      "text/plain": [
       "OrderedDict([('x0', 4.754395304663533),\n",
       "             ('mB', 8.808868933178811),\n",
       "             ('x1', 0.2763443128324382),\n",
       "             ('c', -0.07753922802104068),\n",
       "             ('mBB', 8.846274489500423),\n",
       "             ('MnoDisp', -19.37788130259044),\n",
       "             ('Mabs', -19.41528685891205),\n",
       "             ('t0', 60683.51389010622),\n",
       "             ('z', 0.0009966057448627108),\n",
       "             ('model', 'SALT2')])"
      ]
     },
     "execution_count": 13,
     "metadata": {},
     "output_type": "execute_result"
    }
   ],
   "source": [
    "gp.modelParams(3)"
   ]
  },
  {
   "cell_type": "markdown",
   "metadata": {},
   "source": [
    "### 2. Generate From the skyArea, redshift bounds and survey Duration\n",
    "\n",
    "This uses the `fromSkyArea` method\n",
    "\n",
    "In general, we will not have a redshift distribution or a redshift sample to use. In this case, we prefer to use \n",
    "the `fromSkyArea` method which instead obtains these samples from using the fieldArea, zmin and zmax. Right now, we also need `numzBins` because of the binned implementation which we will later get rid of."
   ]
  },
  {
   "cell_type": "code",
   "execution_count": 14,
   "metadata": {},
   "outputs": [],
   "source": [
    "gpz = GMM_SALTPopulation.fromSkyArea(rng=np.random.RandomState(1), fieldArea=0.5)"
   ]
  },
  {
   "cell_type": "code",
   "execution_count": 15,
   "metadata": {},
   "outputs": [
    {
     "data": {
      "text/plain": [
       "1351"
      ]
     },
     "execution_count": 15,
     "metadata": {},
     "output_type": "execute_result"
    }
   ],
   "source": [
    "gpz.zSamples.size"
   ]
  },
  {
   "cell_type": "code",
   "execution_count": 16,
   "metadata": {},
   "outputs": [
    {
     "data": {
      "text/plain": [
       "1351"
      ]
     },
     "execution_count": 16,
     "metadata": {},
     "output_type": "execute_result"
    }
   ],
   "source": [
    "gpz.numSources"
   ]
  },
  {
   "cell_type": "code",
   "execution_count": 17,
   "metadata": {},
   "outputs": [
    {
     "data": {
      "text/html": [
       "<div>\n",
       "<style scoped>\n",
       "    .dataframe tbody tr th:only-of-type {\n",
       "        vertical-align: middle;\n",
       "    }\n",
       "\n",
       "    .dataframe tbody tr th {\n",
       "        vertical-align: top;\n",
       "    }\n",
       "\n",
       "    .dataframe thead th {\n",
       "        text-align: right;\n",
       "    }\n",
       "</style>\n",
       "<table border=\"1\" class=\"dataframe\">\n",
       "  <thead>\n",
       "    <tr style=\"text-align: right;\">\n",
       "      <th></th>\n",
       "      <th>x0</th>\n",
       "      <th>mB</th>\n",
       "      <th>x1</th>\n",
       "      <th>c</th>\n",
       "      <th>mBB</th>\n",
       "      <th>MnoDisp</th>\n",
       "      <th>Mabs</th>\n",
       "      <th>t0</th>\n",
       "      <th>z</th>\n",
       "      <th>model</th>\n",
       "    </tr>\n",
       "    <tr>\n",
       "      <th>idx</th>\n",
       "      <th></th>\n",
       "      <th></th>\n",
       "      <th></th>\n",
       "      <th></th>\n",
       "      <th></th>\n",
       "      <th></th>\n",
       "      <th></th>\n",
       "      <th></th>\n",
       "      <th></th>\n",
       "      <th></th>\n",
       "    </tr>\n",
       "  </thead>\n",
       "  <tbody>\n",
       "    <tr>\n",
       "      <th>0</th>\n",
       "      <td>0.000164</td>\n",
       "      <td>19.962387</td>\n",
       "      <td>-0.442255</td>\n",
       "      <td>-0.004058</td>\n",
       "      <td>19.850736</td>\n",
       "      <td>-19.127415</td>\n",
       "      <td>-19.015764</td>\n",
       "      <td>62394.169557</td>\n",
       "      <td>0.128958</td>\n",
       "      <td>SALT2</td>\n",
       "    </tr>\n",
       "    <tr>\n",
       "      <th>1</th>\n",
       "      <td>0.000042</td>\n",
       "      <td>21.440730</td>\n",
       "      <td>1.232871</td>\n",
       "      <td>0.111331</td>\n",
       "      <td>21.272264</td>\n",
       "      <td>-18.986671</td>\n",
       "      <td>-18.818205</td>\n",
       "      <td>60783.533039</td>\n",
       "      <td>0.220232</td>\n",
       "      <td>SALT2</td>\n",
       "    </tr>\n",
       "    <tr>\n",
       "      <th>2</th>\n",
       "      <td>0.000066</td>\n",
       "      <td>20.953837</td>\n",
       "      <td>0.297145</td>\n",
       "      <td>-0.006085</td>\n",
       "      <td>20.819483</td>\n",
       "      <td>-19.235236</td>\n",
       "      <td>-19.100882</td>\n",
       "      <td>62487.438845</td>\n",
       "      <td>0.202496</td>\n",
       "      <td>SALT2</td>\n",
       "    </tr>\n",
       "    <tr>\n",
       "      <th>3</th>\n",
       "      <td>0.000144</td>\n",
       "      <td>20.104681</td>\n",
       "      <td>-0.817684</td>\n",
       "      <td>-0.086030</td>\n",
       "      <td>20.266484</td>\n",
       "      <td>-19.339013</td>\n",
       "      <td>-19.500815</td>\n",
       "      <td>60764.929876</td>\n",
       "      <td>0.168033</td>\n",
       "      <td>SALT2</td>\n",
       "    </tr>\n",
       "    <tr>\n",
       "      <th>4</th>\n",
       "      <td>0.000027</td>\n",
       "      <td>21.931654</td>\n",
       "      <td>0.202489</td>\n",
       "      <td>0.072395</td>\n",
       "      <td>21.872978</td>\n",
       "      <td>-18.970405</td>\n",
       "      <td>-18.911729</td>\n",
       "      <td>60703.770920</td>\n",
       "      <td>0.279210</td>\n",
       "      <td>SALT2</td>\n",
       "    </tr>\n",
       "  </tbody>\n",
       "</table>\n",
       "</div>"
      ],
      "text/plain": [
       "           x0         mB        x1         c        mBB    MnoDisp       Mabs  \\\n",
       "idx                                                                             \n",
       "0    0.000164  19.962387 -0.442255 -0.004058  19.850736 -19.127415 -19.015764   \n",
       "1    0.000042  21.440730  1.232871  0.111331  21.272264 -18.986671 -18.818205   \n",
       "2    0.000066  20.953837  0.297145 -0.006085  20.819483 -19.235236 -19.100882   \n",
       "3    0.000144  20.104681 -0.817684 -0.086030  20.266484 -19.339013 -19.500815   \n",
       "4    0.000027  21.931654  0.202489  0.072395  21.872978 -18.970405 -18.911729   \n",
       "\n",
       "               t0         z  model  \n",
       "idx                                 \n",
       "0    62394.169557  0.128958  SALT2  \n",
       "1    60783.533039  0.220232  SALT2  \n",
       "2    62487.438845  0.202496  SALT2  \n",
       "3    60764.929876  0.168033  SALT2  \n",
       "4    60703.770920  0.279210  SALT2  "
      ]
     },
     "execution_count": 17,
     "metadata": {},
     "output_type": "execute_result"
    }
   ],
   "source": [
    "gpz.paramsTable.head()"
   ]
  },
  {
   "cell_type": "markdown",
   "metadata": {},
   "source": [
    "## Characterizations of the Distribution"
   ]
  },
  {
   "cell_type": "markdown",
   "metadata": {},
   "source": [
    "## Form of the internal dispersion"
   ]
  },
  {
   "cell_type": "code",
   "execution_count": 18,
   "metadata": {},
   "outputs": [],
   "source": [
    "import scipy"
   ]
  },
  {
   "cell_type": "code",
   "execution_count": 19,
   "metadata": {},
   "outputs": [
    {
     "name": "stderr",
     "output_type": "stream",
     "text": [
      "/Users/rbiswas/soft/mypython3/lib/python3.7/site-packages/scipy/stats/stats.py:1713: FutureWarning: Using a non-tuple sequence for multidimensional indexing is deprecated; use `arr[tuple(seq)]` instead of `arr[seq]`. In the future this will be interpreted as an array index, `arr[np.array(seq)]`, which will result either in an error or a different result.\n",
      "  return np.add.reduce(sorted[indexer] * weights, axis=axis) / sumval\n"
     ]
    },
    {
     "data": {
      "text/plain": [
       "<matplotlib.axes._subplots.AxesSubplot at 0x1a234f3438>"
      ]
     },
     "execution_count": 19,
     "metadata": {},
     "output_type": "execute_result"
    },
    {
     "data": {
      "image/png": "[encoded data removed]",
      "text/plain": [
       "<Figure size 432x288 with 1 Axes>"
      ]
     },
     "metadata": {
      "needs_background": "light"
     },
     "output_type": "display_data"
    }
   ],
   "source": [
    "fig, ax = plt.subplots()\n",
    "sns.distplot(gpz.paramsTable.Mabs - gpz.paramsTable.MnoDisp, hist=False, fit=scipy.stats.norm)"
   ]
  },
  {
   "cell_type": "markdown",
   "metadata": {},
   "source": [
    "## Checks on the Hubble Diagram"
   ]
  },
  {
   "cell_type": "code",
   "execution_count": 20,
   "metadata": {},
   "outputs": [],
   "source": [
    "from astropy.cosmology import Planck15"
   ]
  },
  {
   "cell_type": "code",
   "execution_count": 21,
   "metadata": {},
   "outputs": [
    {
     "data": {
      "text/plain": [
       "[<matplotlib.lines.Line2D at 0x1a23876da0>]"
      ]
     },
     "execution_count": 21,
     "metadata": {},
     "output_type": "execute_result"
    },
    {
     "data": {
      "image/png": "[encoded data removed]",
      "text/plain": [
       "<Figure size 432x288 with 4 Axes>"
      ]
     },
     "metadata": {
      "needs_background": "light"
     },
     "output_type": "display_data"
    }
   ],
   "source": [
    "fig, ax = plt.subplots(1, 4)\n",
    "ax[0].plot(gpz.paramsTable.z, gpz.paramsTable.mB, '.')\n",
    "ax[0].plot(gpz.paramsTable.z, gpz.paramsTable.Mabs, '.')\n",
    "ax[1].plot(gpz.paramsTable.z, gpz.paramsTable.mB - gpz.paramsTable.Mabs, color='r')\n",
    "ax[1].plot(gpz.paramsTable.z, Planck15.distmod(gpz.paramsTable.z).value, color='k', lw=2)\n",
    "ax[2].plot(gpz.paramsTable.z, gpz.paramsTable.mB - gpz.paramsTable.Mabs - Planck15.distmod(gpz.paramsTable.z).value, 'r.')\n",
    "ax[3].plot(gpz.paramsTable.z, gpz.paramsTable.mB - gpz.paramsTable.MnoDisp - Planck15.distmod(gpz.paramsTable.z).value, 'k.')"
   ]
  },
  {
   "cell_type": "markdown",
   "metadata": {},
   "source": [
    "## Distribution of x1 and c"
   ]
  },
  {
   "cell_type": "code",
   "execution_count": 22,
   "metadata": {},
   "outputs": [
    {
     "data": {
      "image/png": "[encoded data removed]",
      "text/plain": [
       "<Figure size 432x432 with 3 Axes>"
      ]
     },
     "metadata": {
      "needs_background": "light"
     },
     "output_type": "display_data"
    }
   ],
   "source": [
    "#fig = plt.figure(figsize=(6,6))\n",
    "jp = sns.jointplot(data=gpz.paramsTable, x='x1', y='c', kind='kde')\n",
    "jp.fig.set_figheight(6)\n",
    "jp.fig.set_figwidth(6)"
   ]
  },
  {
   "cell_type": "code",
   "execution_count": 23,
   "metadata": {},
   "outputs": [
    {
     "data": {
      "text/plain": [
       "0.07228172621836297"
      ]
     },
     "execution_count": 23,
     "metadata": {},
     "output_type": "execute_result"
    }
   ],
   "source": [
    "gpz.paramsTable.c.std()"
   ]
  },
  {
   "cell_type": "code",
   "execution_count": 24,
   "metadata": {},
   "outputs": [
    {
     "data": {
      "text/plain": [
       "0.9466470033355492"
      ]
     },
     "execution_count": 24,
     "metadata": {},
     "output_type": "execute_result"
    }
   ],
   "source": [
    "gpz.paramsTable.x1.std()"
   ]
  },
  {
   "cell_type": "code",
   "execution_count": null,
   "metadata": {},
   "outputs": [],
   "source": []
  }
 ],
 "metadata": {
  "kernelspec": {
   "display_name": "Python 3",
   "language": "python",
   "name": "python3"
  },
  "language_info": {
   "codemirror_mode": {
    "name": "ipython",
    "version": 3
   },
   "file_extension": ".py",
   "mimetype": "text/x-python",
   "name": "python",
   "nbconvert_exporter": "python",
   "pygments_lexer": "ipython3",
   "version": "3.7.1"
  }
 },
 "nbformat": 4,
 "nbformat_minor": 2
}
